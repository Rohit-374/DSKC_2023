{
 "cells": [
  {
   "cell_type": "code",
   "execution_count": 1,
   "id": "9783bee7",
   "metadata": {},
   "outputs": [],
   "source": [
    "import numpy as np #For matrix operations\n",
    "import matplotlib.pyplot as plt #For plotting\n",
    "import mpmath as mp #For hypergeometric function\n",
    "import scipy.special as ssp #For special functions like gamma, etc.\n",
    "import qutip as qt #For Quantum Mechanical Calculations\n",
    "from tabulate import tabulate #Import tool for creating table"
   ]
  },
  {
   "cell_type": "code",
   "execution_count": 2,
   "id": "bd92a79d",
   "metadata": {},
   "outputs": [],
   "source": [
    "#Defining value of useful parameters\n",
    "mu = 5.17/2\n",
    "hbar = 1\n",
    "omega1 = 0.2021667\n",
    "beta1 = np.sqrt((mu*omega1)/hbar)\n",
    "d = (hbar**2)/(2*mu)"
   ]
  },
  {
   "cell_type": "code",
   "execution_count": 3,
   "id": "23ffe1ed",
   "metadata": {},
   "outputs": [],
   "source": [
    "#Defining Combination function Using Gamma Function\n",
    "def cb(lam, mu):\n",
    "    return ssp.gamma(lam+1)/((ssp.gamma(lam+1 - mu))*(ssp.gamma(mu+1)))"
   ]
  },
  {
   "cell_type": "code",
   "execution_count": 4,
   "id": "0e0504fb",
   "metadata": {},
   "outputs": [],
   "source": [
    "#Defining Kronecker Delta\n",
    "def kron_del(m, n):\n",
    "    if m == n:\n",
    "        return 1\n",
    "    else:\n",
    "        return 0"
   ]
  },
  {
   "cell_type": "markdown",
   "id": "d82b042f",
   "metadata": {},
   "source": [
    "$$N_{k\\ell} = \\sqrt{\\frac{2\\beta^3\\, k!}{\\Gamma\\left(k + \\ell + \\frac{3}{2}\\right)}}$$"
   ]
  },
  {
   "cell_type": "code",
   "execution_count": 5,
   "id": "469d69e4",
   "metadata": {},
   "outputs": [],
   "source": [
    "#Defining Function for Normalization Constant\n",
    "def Nl(k, l):\n",
    "    return np.sqrt((2*(beta1**3)*ssp.factorial(k))/(ssp.gamma(k + l + 1.5)))"
   ]
  },
  {
   "cell_type": "markdown",
   "id": "cdb99b61",
   "metadata": {},
   "source": [
    "Define\n",
    "$$J_p(k', k, \\ell) = \\int_0^\\infty y^{\\ell + 0.5(1 + p)}e^{-y}L_{k'}^{\\ell + 0.5}(y)L_{k}^{\\ell + 0.5}(y) dy$$"
   ]
  },
  {
   "cell_type": "markdown",
   "id": "a8e1e3ca",
   "metadata": {},
   "source": [
    "Now\n",
    "\n",
    "$$J_0(k', k, \\ell) =  \\frac{(k+\\ell + 0.5)!}{k!}\\delta_{k', k}$$\n",
    "\n",
    "Thus,\n",
    "\n",
    "$$ I_{0}{(k', k, \\ell)} = \\frac{N_{k'\\ell} N_{k\\ell}}{2 \\beta^{3}} \\frac{(k+\\ell + 0.5)!}{k!}\\delta_{k', k} = \\delta_{k', k} $$"
   ]
  },
  {
   "cell_type": "code",
   "execution_count": 6,
   "id": "b5f27185",
   "metadata": {},
   "outputs": [],
   "source": [
    "#Function for I0 - Just Kronecker Delta\n",
    "def I0(kp, k, l):\n",
    "    return kron_del(kp, k)"
   ]
  },
  {
   "cell_type": "markdown",
   "id": "815c5119",
   "metadata": {},
   "source": [
    "$$J_{-1}{(k', k, \\ell)} = \\binom{k' - 0.5}{k'}\\binom{k - 0.5}{k} \\Gamma(\\ell + 1)\\; {}_{3}F_{2}\\left({\\begin{matrix}\\ell+1,\\; -k',\\; -k\\\\ 0.5 - k',\\; 0.5 - k\\end{matrix}};1\\right)$$\n",
    "\n",
    "And\n",
    "\n",
    "$$ I_{-1}{(k', k, \\ell)} = \\frac{N_{k'\\ell} N_{k\\ell}}{2 \\beta^{2}} J_{-1}{(k', k, \\ell)} $$"
   ]
  },
  {
   "cell_type": "code",
   "execution_count": 7,
   "id": "d2d9cb4c",
   "metadata": {},
   "outputs": [],
   "source": [
    "#Function for $J_{-1}$\n",
    "def Jm1(kp, k, l):\n",
    "    J1 = cb(kp-0.5, kp)\n",
    "    J2 = cb(k-0.5, k)\n",
    "    J3 = ssp.gamma(l+1)\n",
    "    a1 = l+1\n",
    "    a2 = -kp\n",
    "    a3 = -k\n",
    "    b1 = 0.5-kp\n",
    "    b2 = 0.5-k\n",
    "    J4 =mp.hyp3f2(a1, a2, a3, b1, b2, 1)\n",
    "    return J1*J2*J3*J4"
   ]
  },
  {
   "cell_type": "code",
   "execution_count": 8,
   "id": "b4ddd487",
   "metadata": {},
   "outputs": [],
   "source": [
    "#Function for $I_{-1}$\n",
    "def Im1(kp, k, l):\n",
    "    resm1 = ((Nl(kp, l)*Nl(k, l))/(2*(beta1**2)))*Jm1(kp, k, l)\n",
    "    return resm1"
   ]
  },
  {
   "cell_type": "markdown",
   "id": "ec093140",
   "metadata": {},
   "source": [
    "$$J_{1}{(k', k, \\ell)} = \\binom{k' - 1.5}{k'}\\binom{k - 1.5}{k} \\Gamma(\\ell + 2)\\; {}_{3}F_{2}\\left({\\begin{matrix}\\ell+2,\\; -k',\\; -k\\\\ 1.5 - k',\\; 1.5 - k\\end{matrix}};1\\right)$$\n",
    "\n",
    "And\n",
    "\n",
    "$$ I_{1}{(k', k, \\ell)} = \\frac{N_{k'\\ell} N_{k\\ell}}{2 \\beta^{4}} J_{1}{(k', k, \\ell)} $$"
   ]
  },
  {
   "cell_type": "code",
   "execution_count": 9,
   "id": "21adf173",
   "metadata": {},
   "outputs": [],
   "source": [
    "#Function for $J_{1}$\n",
    "def J1(kp, k, l):\n",
    "    J1 = cb(kp-1.5, kp)\n",
    "    J2 = cb(k-1.5, k)\n",
    "    J3 = ssp.gamma(l+2)\n",
    "    a1 = l+2\n",
    "    a2 = -kp\n",
    "    a3 = -k\n",
    "    b1 = 1.5-kp\n",
    "    b2 = 1.5-k\n",
    "    J4 =mp.hyp3f2(a1, a2, a3, b1, b2, 1)\n",
    "    return J1*J2*J3*J4"
   ]
  },
  {
   "cell_type": "code",
   "execution_count": 10,
   "id": "e16a3064",
   "metadata": {},
   "outputs": [],
   "source": [
    "#Function for $I_{1}$\n",
    "def I1(kp, k, l):\n",
    "    res1 = ((Nl(kp, l)*Nl(k, l))/(2*(beta1**4)))*J1(kp, k, l)\n",
    "    return res1"
   ]
  },
  {
   "cell_type": "markdown",
   "id": "bf4259b1",
   "metadata": {},
   "source": [
    "$$J_2(k', k, \\ell) = \\frac{(k'+\\ell + 0.5)!}{k'!}\\left[(2k + \\ell + 1.5)\\delta_{k', k} - (k+\\ell+0.5) \\delta_{k', k-1} - (k+1)\\delta_{k', k+1}\\right]$$\n",
    "\n",
    "And\n",
    "\n",
    "$$I_{2}{(k', k, \\ell)} = \\frac{N_{k'\\ell} N_{k\\ell}}{2 \\beta^{5}} J_{1}{(k', k, \\ell)}$$"
   ]
  },
  {
   "cell_type": "code",
   "execution_count": 11,
   "id": "df9ceb6c",
   "metadata": {},
   "outputs": [],
   "source": [
    "#Function for $J_{2}$\n",
    "def J2(kp, k, l):\n",
    "    fc = (ssp.gamma(kp + l + 1.5))/ssp.gamma(kp+1)\n",
    "    f1 = (2*k) + l + 1.5\n",
    "    f2 = k + l + 0.5\n",
    "    f3 = k + 1\n",
    "    return fc*((f1*kron_del(kp, k)) - (f2*kron_del(kp, k-1)) - (f3*kron_del(kp, k+1)))  "
   ]
  },
  {
   "cell_type": "code",
   "execution_count": 12,
   "id": "6d5358ef",
   "metadata": {},
   "outputs": [],
   "source": [
    "#Function for $I_{2}$\n",
    "def I2(kp, k, l):\n",
    "    res2 = ((Nl(kp, l)*Nl(k, l))/(2*(beta1**5)))*J2(kp, k, l)\n",
    "    return res2"
   ]
  },
  {
   "cell_type": "code",
   "execution_count": 13,
   "id": "176009e1",
   "metadata": {},
   "outputs": [],
   "source": [
    "#Defining Useful parameters of the Perturbation Potential\n",
    "C0 = 9.6293\n",
    "kappa = 0.52\n",
    "a = 2.34\n",
    "v1 = 9.3434167\n",
    "C1 = C0 - v1"
   ]
  },
  {
   "cell_type": "markdown",
   "id": "873b655a",
   "metadata": {},
   "source": [
    "$$H_{k', k} = \\left<k', \\ell|H_p|k, \\ell\\right>$$"
   ]
  },
  {
   "cell_type": "code",
   "execution_count": 14,
   "id": "1abbcf89",
   "metadata": {},
   "outputs": [],
   "source": [
    "#Defining Function for Calculating $H_{k', k}$ denoted as called Hmn here\n",
    "def Hmn(kp, k, l):\n",
    "    Hmn0 = C1*I0(kp, k, l)\n",
    "    Hmn1 = kappa*Im1(kp, k, l)\n",
    "    Hmn2 = (I1(kp, k, l))/(a**2)\n",
    "    Hmn3 = 0.5*mu*(omega1**2)*I2(kp, k, l)\n",
    "    return Hmn0 - Hmn1 + Hmn2 - Hmn3"
   ]
  },
  {
   "cell_type": "code",
   "execution_count": 19,
   "id": "c02950b1",
   "metadata": {},
   "outputs": [],
   "source": [
    "#Function for Energy Eigenvalues of Toy SHO model\n",
    "def En1(k, l):\n",
    "    return v1 + ((2*k) + l + 1.5)*hbar*omega1"
   ]
  },
  {
   "cell_type": "markdown",
   "id": "73528773",
   "metadata": {},
   "source": [
    "$$G_{k', k} = \\begin{cases}\n",
    "0 \\hspace{1.69cm} \\text{if}\\; k' = k \\\\\n",
    "\\frac{H_{k', k}^2}{E_{k, \\ell} - E_{k', \\ell}} \\;\\;\\; \\text{otherwise}\n",
    "\\end{cases}$$"
   ]
  },
  {
   "cell_type": "code",
   "execution_count": 20,
   "id": "7a062f37",
   "metadata": {},
   "outputs": [],
   "source": [
    "#Defining Function for Calculating $G_{k', k}$ denoted as called Gmn here\n",
    "def Gmn(kp, k, l):\n",
    "    if kp == k:\n",
    "        return 0\n",
    "    else:\n",
    "        g1 = Hmn(kp, k, l)\n",
    "        g2 = En1(k, 0) - En1(kp, 0)\n",
    "        return (g1**2)/g2"
   ]
  },
  {
   "cell_type": "code",
   "execution_count": 21,
   "id": "08956171",
   "metadata": {},
   "outputs": [],
   "source": [
    "#Function for Calculating second order energy correction for nth state, by summer Gmn over M states\n",
    "def sec_cor(n, M):\n",
    "    en2 = 0\n",
    "    for i in range(M):\n",
    "        en2 = en2 + Gmn(i, n, 0)\n",
    "    return en2"
   ]
  },
  {
   "cell_type": "code",
   "execution_count": 24,
   "id": "7cbb829d",
   "metadata": {},
   "outputs": [
    {
     "name": "stdout",
     "output_type": "stream",
     "text": [
      "╒═════════════╤═════════════╤═════════════╤═════════════════════════════════════╤═════════════════════════╕\n",
      "│   E_n^{(0)} │   E_n^{(1)} │   E_n^{(2)} │   E_n^{(0)} + E_n^{(1)} + E_n^{(2)} │   Actual Energies (E_n) │\n",
      "╞═════════════╪═════════════╪═════════════╪═════════════════════════════════════╪═════════════════════════╡\n",
      "│     9.64667 │ -0.00485388 │  -0.114301  │                             9.52752 │                  9.46   │\n",
      "├─────────────┼─────────────┼─────────────┼─────────────────────────────────────┼─────────────────────────┤\n",
      "│    10.051   │  0.00620564 │  -0.0199358 │                            10.0373  │                 10.0516 │\n",
      "├─────────────┼─────────────┼─────────────┼─────────────────────────────────────┼─────────────────────────┤\n",
      "│    10.4553  │ -0.0501805  │  -0.0152286 │                            10.3899  │                 10.3967 │\n",
      "├─────────────┼─────────────┼─────────────┼─────────────────────────────────────┼─────────────────────────┤\n",
      "│    10.8596  │ -0.13726    │  -0.0324478 │                            10.6899  │                 10.6736 │\n",
      "╘═════════════╧═════════════╧═════════════╧═════════════════════════════════════╧═════════════════════════╛\n"
     ]
    }
   ],
   "source": [
    "#Calculating the Energy corrections, and comparing the net result from actual energy eigenvalues\n",
    "header = [\"E_n^{(0)}\", \"E_n^{(1)}\", \"E_n^{(2)}\", \"E_n^{(0)} + E_n^{(1)} + E_n^{(2)}\", \"Actual Energies (E_n)\"]\n",
    "\n",
    "Col1 = np.array([9.64667341, 10.0510042,  10.45532851, 10.85964687])\n",
    "Col2 = np.array([Hmn(i, i, 0) for i in range(4)])\n",
    "Col3 = np.array([sec_cor(i, 160) for i in range(4)])\n",
    "\n",
    "Col4 = Col1 + Col2 + Col3\n",
    "Col5 = np.array([9.45999529, 10.05155864, 10.39672205, 10.67363567])\n",
    "\n",
    "zipped_lists = zip(Col1, Col2, Col3, Col4, Col5)\n",
    "\n",
    "#Printing List\n",
    "print(tabulate(zipped_lists, header, tablefmt=\"fancy_grid\"))"
   ]
  }
 ],
 "metadata": {
  "kernelspec": {
   "display_name": "Python 3 (ipykernel)",
   "language": "python",
   "name": "python3"
  },
  "language_info": {
   "codemirror_mode": {
    "name": "ipython",
    "version": 3
   },
   "file_extension": ".py",
   "mimetype": "text/x-python",
   "name": "python",
   "nbconvert_exporter": "python",
   "pygments_lexer": "ipython3",
   "version": "3.10.9"
  }
 },
 "nbformat": 4,
 "nbformat_minor": 5
}
