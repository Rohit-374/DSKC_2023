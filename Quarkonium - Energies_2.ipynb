{
 "cells": [
  {
   "cell_type": "code",
   "execution_count": 15,
   "id": "3dda5aef",
   "metadata": {},
   "outputs": [],
   "source": [
    "import numpy as np #For matrix operations\n",
    "import matplotlib.pyplot as plt #For plotting\n",
    "import mpmath as mp #For hypergeometric function\n",
    "import scipy.special as ssp #For special functions like gamma, etc.\n",
    "import qutip as qt #For Quantum Mechanical Calculations\n",
    "from tabulate import tabulate #For making table"
   ]
  },
  {
   "cell_type": "code",
   "execution_count": 23,
   "id": "cc9c8cbe",
   "metadata": {},
   "outputs": [],
   "source": [
    "l = 0  # Azimuthal Quantum Number\n",
    "\n",
    "bet = 0.72291  # In GeV, Value of Beta\n",
    "#C = 0.2855833  # In GeV, C = V_0 - V_C\n",
    "C = 0.2858833\n",
    "w = 0.2021667  # In GeV, frequency in natural units.\n",
    "\n",
    "K = 0.52  # In GeV\n",
    "a = 2.34  # In GeV^{-1}\n",
    "\n",
    "mb = 5.17  # GeV\n",
    "mu = mb / 2  # Reduced mass"
   ]
  },
  {
   "cell_type": "code",
   "execution_count": 24,
   "id": "733a528c",
   "metadata": {},
   "outputs": [],
   "source": [
    "#Conbination Function\n",
    "def nCk(n1, k1):\n",
    "    return ssp.gamma(n1 + 1) / (ssp.gamma(k1 + 1) * ssp.gamma(n1 - k1 + 1))"
   ]
  },
  {
   "cell_type": "code",
   "execution_count": 25,
   "id": "c3f0c8c9",
   "metadata": {},
   "outputs": [],
   "source": [
    "#Kronecker Delta Function\n",
    "def kron_del(x, y):\n",
    "    if x == y:\n",
    "        return 1\n",
    "    else:\n",
    "        return 0"
   ]
  },
  {
   "cell_type": "code",
   "execution_count": 26,
   "id": "47f07546",
   "metadata": {},
   "outputs": [],
   "source": [
    "#Setting Value of Number of states to sum over\n",
    "i0 = 40\n",
    "\n",
    "#Creating some empty matrices\n",
    "H_mn0 = np.zeros([i0, i0])\n",
    "H_mn1 = np.zeros([i0, i0])\n",
    "H_mn2 = np.zeros([i0, i0])\n",
    "H_mn3 = np.zeros([i0, i0])\n",
    "H_mn = np.zeros([i0, i0])\n",
    "nv2 = np.zeros([i0, i0])"
   ]
  },
  {
   "cell_type": "code",
   "execution_count": 27,
   "id": "1795933d",
   "metadata": {},
   "outputs": [],
   "source": [
    "for i in range(i0):\n",
    "    n = i\n",
    "    N_nl = np.sqrt(2 * (bet ** 3) * ssp.factorial(n) / ssp.gamma(n + l + 1.5)) #Normalization Constant\n",
    "\n",
    "    for j in range(i0):\n",
    "        m = j\n",
    "        N_ml = np.sqrt(2 * (bet ** 3) * ssp.factorial(m) / ssp.gamma(m + l + 1.5))  #Normalization Constant\n",
    "\n",
    "        #x = 1\n",
    "        #y = 1\n",
    "        \n",
    "        #HyperGeometric Part of Integral\n",
    "        def g1(x):\n",
    "            return mp.hyp3f2((l+1),-m,-n, (0.5-m),(0.5-n), x)\n",
    "\n",
    "        def g2(x):\n",
    "            return mp.hyp3f2((l+2),-m,-n,(1.5-m),(1.5-n),x)\n",
    "        \n",
    "        #Calculating H_mn_i and storing them in empty matrices\n",
    "        H_mn0[i,j] = C * kron_del(m, n)\n",
    "        \n",
    "        H_mn1[i,j] = -((K / (2 * (bet ** 2)))*ssp.gamma(l + 1)*(N_nl * N_ml)*( nCk((n - 0.5), n) * nCk((m - 0.5), m)) * g1(1))\n",
    "        \n",
    "        H_mn2[i,j] = ((1 / (2 * (a**2)*(bet ** 4)))*ssp.gamma(l + 2)*(N_nl * N_ml)*(nCk((n - 1.5), n)*nCk((m - 1.5), m))*g2(1))\n",
    "        \n",
    "        H_mn3[i,j] = (-mu * (w ** 2) / (4 * (bet ** 5)))*(N_nl * N_ml)*(((-ssp.gamma(n + l + 2.5) / ssp.gamma(n + 1)) * (kron_del(m, n+1))) \n",
    "                    + ((((2*n) + l + 1.5)*ssp.gamma(n + l + 1.5) / ssp.gamma(n + 1))*(kron_del(m, n))) \n",
    "                    + (((-ssp.gamma(n + l + 1.5) / ssp.gamma(n)) * (kron_del(m, n-1)))))\n",
    "        \n",
    "        #Calculating H_mn\n",
    "        H_mn[i, j] = H_mn0[i,j] + H_mn1[i,j] + H_mn2[i,j] + H_mn3[i,j]\n",
    "\n",
    "        #Calculating and storing the terms G_mn (defined in my code) in nv2 matrix\n",
    "        if i == j: \n",
    "            nv2[i, j] = 0\n",
    "        else:\n",
    "            nv2[i, j] = (((H_mn[i, j]) ** 2) / (2 * (n - m) * w))\n"
   ]
  },
  {
   "cell_type": "code",
   "execution_count": 28,
   "id": "6646b04a",
   "metadata": {},
   "outputs": [
    {
     "name": "stdout",
     "output_type": "stream",
     "text": [
      "╒═════════════╤═════════════╤═════════════╤═════════════════════════════════════╤═════════════════════════╕\n",
      "│   E_n^{(0)} │   E_n^{(1)} │   E_n^{(2)} │   E_n^{(0)} + E_n^{(1)} + E_n^{(2)} │   Actual Energies (E_n) │\n",
      "╞═════════════╪═════════════╪═════════════╪═════════════════════════════════════╪═════════════════════════╡\n",
      "│     9.64667 │ -0.00485309 │  -0.114004  │                             9.52782 │                  9.46   │\n",
      "├─────────────┼─────────────┼─────────────┼─────────────────────────────────────┼─────────────────────────┤\n",
      "│    10.051   │  0.00620579 │  -0.0194791 │                            10.0377  │                 10.0516 │\n",
      "├─────────────┼─────────────┼─────────────┼─────────────────────────────────────┼─────────────────────────┤\n",
      "│    10.4553  │ -0.050181   │  -0.0146411 │                            10.3905  │                 10.3967 │\n",
      "├─────────────┼─────────────┼─────────────┼─────────────────────────────────────┼─────────────────────────┤\n",
      "│    10.8596  │ -0.137261   │  -0.0317419 │                            10.6906  │                 10.6736 │\n",
      "╘═════════════╧═════════════╧═════════════╧═════════════════════════════════════╧═════════════════════════╛\n"
     ]
    }
   ],
   "source": [
    "#Calculating the Energy corrections, and comparing the net result from actual energy eigenvalues\n",
    "header = [\"E_n^{(0)}\", \"E_n^{(1)}\", \"E_n^{(2)}\", \"E_n^{(0)} + E_n^{(1)} + E_n^{(2)}\", \"Actual Energies (E_n)\"]\n",
    "\n",
    "Col1 = np.array([9.64667341, 10.0510042,  10.45532851, 10.85964687])\n",
    "Col2 = np.array([H_mn[i, i] for i in range(4)])\n",
    "Col3 = np.array([np.sum(nv2[i,:]) for i in range(4)])\n",
    "\n",
    "Col4 = Col1 + Col2 + Col3\n",
    "Col5 = np.array([9.45999529, 10.05155864, 10.39672205, 10.67363567])\n",
    "\n",
    "zipped_lists = zip(Col1, Col2, Col3, Col4, Col5)\n",
    "\n",
    "#Printing List\n",
    "print(tabulate(zipped_lists, header, tablefmt=\"fancy_grid\"))"
   ]
  }
 ],
 "metadata": {
  "kernelspec": {
   "display_name": "Python 3 (ipykernel)",
   "language": "python",
   "name": "python3"
  },
  "language_info": {
   "codemirror_mode": {
    "name": "ipython",
    "version": 3
   },
   "file_extension": ".py",
   "mimetype": "text/x-python",
   "name": "python",
   "nbconvert_exporter": "python",
   "pygments_lexer": "ipython3",
   "version": "3.10.9"
  }
 },
 "nbformat": 4,
 "nbformat_minor": 5
}
